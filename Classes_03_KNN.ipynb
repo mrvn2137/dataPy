{
  "cells": [
    {
      "cell_type": "markdown",
      "metadata": {
        "id": "0UM_-fA16Wx0"
      },
      "source": [
        "# Nonlinear regressors: K-Nearest Neighbours\n",
        "\n",
        "Using an open source [Obesity Levels Based On Eating Habits and Physical Condition dataset](https://archive.ics.uci.edu/dataset/544/estimation+of+obesity+levels+based+on+eating+habits+and+physical+condition) we're going to **model** and then **predict** *weight* based on multiple features with simple linear regression. The dataset is provided by [UC Irvine Machine Learning Repository](https://archive.ics.uci.edu/) which contains multiple datasets useful for studying and experimenting."
      ]
    },
    {
      "cell_type": "code",
      "source": [
        "!pip install ucimlrepo"
      ],
      "metadata": {
        "id": "DykUcJGqpT-j",
        "outputId": "f490cbe4-0be7-44bd-a1f2-29de8953eb63",
        "colab": {
          "base_uri": "https://localhost:8080/"
        }
      },
      "execution_count": 1,
      "outputs": [
        {
          "output_type": "stream",
          "name": "stdout",
          "text": [
            "Collecting ucimlrepo\n",
            "  Downloading ucimlrepo-0.0.7-py3-none-any.whl.metadata (5.5 kB)\n",
            "Requirement already satisfied: pandas>=1.0.0 in /usr/local/lib/python3.10/dist-packages (from ucimlrepo) (2.2.2)\n",
            "Requirement already satisfied: certifi>=2020.12.5 in /usr/local/lib/python3.10/dist-packages (from ucimlrepo) (2024.8.30)\n",
            "Requirement already satisfied: numpy>=1.22.4 in /usr/local/lib/python3.10/dist-packages (from pandas>=1.0.0->ucimlrepo) (1.26.4)\n",
            "Requirement already satisfied: python-dateutil>=2.8.2 in /usr/local/lib/python3.10/dist-packages (from pandas>=1.0.0->ucimlrepo) (2.8.2)\n",
            "Requirement already satisfied: pytz>=2020.1 in /usr/local/lib/python3.10/dist-packages (from pandas>=1.0.0->ucimlrepo) (2024.2)\n",
            "Requirement already satisfied: tzdata>=2022.7 in /usr/local/lib/python3.10/dist-packages (from pandas>=1.0.0->ucimlrepo) (2024.2)\n",
            "Requirement already satisfied: six>=1.5 in /usr/local/lib/python3.10/dist-packages (from python-dateutil>=2.8.2->pandas>=1.0.0->ucimlrepo) (1.16.0)\n",
            "Downloading ucimlrepo-0.0.7-py3-none-any.whl (8.0 kB)\n",
            "Installing collected packages: ucimlrepo\n",
            "Successfully installed ucimlrepo-0.0.7\n"
          ]
        }
      ]
    },
    {
      "cell_type": "markdown",
      "metadata": {
        "id": "8Q6dBZxA7WVj"
      },
      "source": [
        "Imports"
      ]
    },
    {
      "cell_type": "code",
      "execution_count": 2,
      "metadata": {
        "id": "VEyKd5686Pt8"
      },
      "outputs": [],
      "source": [
        "import matplotlib.pyplot as plt\n",
        "import numpy as np\n",
        "import pandas as pd\n",
        "import seaborn as sns\n",
        "sns.set_theme(style=\"whitegrid\", palette=\"deep\")\n",
        "\n",
        "from sklearn import datasets, linear_model\n",
        "from sklearn.model_selection import train_test_split\n",
        "from sklearn import set_config\n",
        "from sklearn.inspection import DecisionBoundaryDisplay\n",
        "from sklearn.neighbors import KNeighborsRegressor, KNeighborsClassifier\n",
        "from sklearn.metrics import median_absolute_error, r2_score, classification_report, PredictionErrorDisplay, median_absolute_error, mean_squared_error, mean_absolute_error, accuracy_score, confusion_matrix\n",
        "from ucimlrepo import fetch_ucirepo\n",
        "\n",
        "plt.rcParams[\"figure.figsize\"] = (10,7)"
      ]
    },
    {
      "cell_type": "code",
      "execution_count": 3,
      "metadata": {
        "id": "I4Hsi48QOGpX"
      },
      "outputs": [],
      "source": [
        "# constans\n",
        "test_size=0.2\n",
        "random_state=42"
      ]
    },
    {
      "cell_type": "code",
      "source": [
        "def compute_score(y_true, y_pred):\n",
        "  '''\n",
        "  Helper function for printing scores.\n",
        "\n",
        "  Parameters:\n",
        "  y_true: ndarray of y values from original dataset.\n",
        "  y_pred: ndarray of y values predicted with given model.\n",
        "\n",
        "  Return:\n",
        "  dictionary object that consists of R2 and median absolute error scores.\n",
        "\n",
        "  '''\n",
        "  return {\n",
        "        \"R2\": f\"{r2_score(y_true, y_pred):.3f}\",\n",
        "        \"MedianAE\": f\"{median_absolute_error(y_true, y_pred):.3f}\",\n",
        "}"
      ],
      "metadata": {
        "id": "weAtuf398bDM"
      },
      "execution_count": 4,
      "outputs": []
    },
    {
      "cell_type": "code",
      "source": [
        "def compute_score_classification(y_true, y_pred):\n",
        "  '''\n",
        "  Helper function for printing scores.\n",
        "\n",
        "  Parameters:\n",
        "  y_true: ndarray of y values from original dataset.\n",
        "  y_pred: ndarray of y values predicted with given model.\n",
        "\n",
        "  Return:\n",
        "  dictionary object that consists of accuracy and classification report.\n",
        "\n",
        "  '''\n",
        "  return {\n",
        "        \"Accuracy\": f\"{accuracy_score(y_true, y_pred):.3f}\",\n",
        "        \"Classification Report\": classification_report(y_true, y_pred),\n",
        "}"
      ],
      "metadata": {
        "id": "nhESZbtXFKNA"
      },
      "execution_count": 5,
      "outputs": []
    },
    {
      "cell_type": "code",
      "source": [
        "def plot_prediction_error(y_test, y_pred, scores):\n",
        "  _, ax = plt.subplots(figsize=(5, 5))\n",
        "\n",
        "  y_test = y_test.to_numpy() if isinstance(y_test, pd.DataFrame) else y_test\n",
        "\n",
        "  display_ = PredictionErrorDisplay.from_predictions(\n",
        "      y_test,\n",
        "      y_pred,\n",
        "      kind=\"actual_vs_predicted\",\n",
        "      ax=ax,\n",
        "      scatter_kwargs={\"alpha\": 0.5}\n",
        "  )\n",
        "\n",
        "  ax.set_title(\"Linear model\")\n",
        "  for name, score in scores.items():\n",
        "      ax.plot([], [], \" \", label=f\"{name}: {score}\")\n",
        "  ax.legend(loc=\"upper left\")\n",
        "  plt.tight_layout()"
      ],
      "metadata": {
        "id": "DAdHKvE7-C_-"
      },
      "execution_count": 6,
      "outputs": []
    },
    {
      "cell_type": "markdown",
      "metadata": {
        "id": "C40f350QVvNb"
      },
      "source": [
        "## Load dataset"
      ]
    },
    {
      "cell_type": "code",
      "execution_count": 7,
      "metadata": {
        "id": "lEsePeoHLXCj",
        "outputId": "86935dd9-6156-4bbe-e9dc-d319d699910c",
        "colab": {
          "base_uri": "https://localhost:8080/",
          "height": 226
        }
      },
      "outputs": [
        {
          "output_type": "execute_result",
          "data": {
            "text/plain": [
              "   Gender   Age  Height  Weight family_history_with_overweight FAVC  FCVC  \\\n",
              "0  Female  21.0    1.62    64.0                            yes   no   2.0   \n",
              "1  Female  21.0    1.52    56.0                            yes   no   3.0   \n",
              "2    Male  23.0    1.80    77.0                            yes   no   2.0   \n",
              "3    Male  27.0    1.80    87.0                             no   no   3.0   \n",
              "4    Male  22.0    1.78    89.8                             no   no   2.0   \n",
              "\n",
              "   NCP       CAEC SMOKE  CH2O  SCC  FAF  TUE        CALC  \\\n",
              "0  3.0  Sometimes    no   2.0   no  0.0  1.0          no   \n",
              "1  3.0  Sometimes   yes   3.0  yes  3.0  0.0   Sometimes   \n",
              "2  3.0  Sometimes    no   2.0   no  2.0  1.0  Frequently   \n",
              "3  3.0  Sometimes    no   2.0   no  2.0  0.0  Frequently   \n",
              "4  1.0  Sometimes    no   2.0   no  0.0  0.0   Sometimes   \n",
              "\n",
              "                  MTRANS  \n",
              "0  Public_Transportation  \n",
              "1  Public_Transportation  \n",
              "2  Public_Transportation  \n",
              "3                Walking  \n",
              "4  Public_Transportation  "
            ],
            "text/html": [
              "\n",
              "  <div id=\"df-c51f589f-659f-4e20-9985-6322f44d5efa\" class=\"colab-df-container\">\n",
              "    <div>\n",
              "<style scoped>\n",
              "    .dataframe tbody tr th:only-of-type {\n",
              "        vertical-align: middle;\n",
              "    }\n",
              "\n",
              "    .dataframe tbody tr th {\n",
              "        vertical-align: top;\n",
              "    }\n",
              "\n",
              "    .dataframe thead th {\n",
              "        text-align: right;\n",
              "    }\n",
              "</style>\n",
              "<table border=\"1\" class=\"dataframe\">\n",
              "  <thead>\n",
              "    <tr style=\"text-align: right;\">\n",
              "      <th></th>\n",
              "      <th>Gender</th>\n",
              "      <th>Age</th>\n",
              "      <th>Height</th>\n",
              "      <th>Weight</th>\n",
              "      <th>family_history_with_overweight</th>\n",
              "      <th>FAVC</th>\n",
              "      <th>FCVC</th>\n",
              "      <th>NCP</th>\n",
              "      <th>CAEC</th>\n",
              "      <th>SMOKE</th>\n",
              "      <th>CH2O</th>\n",
              "      <th>SCC</th>\n",
              "      <th>FAF</th>\n",
              "      <th>TUE</th>\n",
              "      <th>CALC</th>\n",
              "      <th>MTRANS</th>\n",
              "    </tr>\n",
              "  </thead>\n",
              "  <tbody>\n",
              "    <tr>\n",
              "      <th>0</th>\n",
              "      <td>Female</td>\n",
              "      <td>21.0</td>\n",
              "      <td>1.62</td>\n",
              "      <td>64.0</td>\n",
              "      <td>yes</td>\n",
              "      <td>no</td>\n",
              "      <td>2.0</td>\n",
              "      <td>3.0</td>\n",
              "      <td>Sometimes</td>\n",
              "      <td>no</td>\n",
              "      <td>2.0</td>\n",
              "      <td>no</td>\n",
              "      <td>0.0</td>\n",
              "      <td>1.0</td>\n",
              "      <td>no</td>\n",
              "      <td>Public_Transportation</td>\n",
              "    </tr>\n",
              "    <tr>\n",
              "      <th>1</th>\n",
              "      <td>Female</td>\n",
              "      <td>21.0</td>\n",
              "      <td>1.52</td>\n",
              "      <td>56.0</td>\n",
              "      <td>yes</td>\n",
              "      <td>no</td>\n",
              "      <td>3.0</td>\n",
              "      <td>3.0</td>\n",
              "      <td>Sometimes</td>\n",
              "      <td>yes</td>\n",
              "      <td>3.0</td>\n",
              "      <td>yes</td>\n",
              "      <td>3.0</td>\n",
              "      <td>0.0</td>\n",
              "      <td>Sometimes</td>\n",
              "      <td>Public_Transportation</td>\n",
              "    </tr>\n",
              "    <tr>\n",
              "      <th>2</th>\n",
              "      <td>Male</td>\n",
              "      <td>23.0</td>\n",
              "      <td>1.80</td>\n",
              "      <td>77.0</td>\n",
              "      <td>yes</td>\n",
              "      <td>no</td>\n",
              "      <td>2.0</td>\n",
              "      <td>3.0</td>\n",
              "      <td>Sometimes</td>\n",
              "      <td>no</td>\n",
              "      <td>2.0</td>\n",
              "      <td>no</td>\n",
              "      <td>2.0</td>\n",
              "      <td>1.0</td>\n",
              "      <td>Frequently</td>\n",
              "      <td>Public_Transportation</td>\n",
              "    </tr>\n",
              "    <tr>\n",
              "      <th>3</th>\n",
              "      <td>Male</td>\n",
              "      <td>27.0</td>\n",
              "      <td>1.80</td>\n",
              "      <td>87.0</td>\n",
              "      <td>no</td>\n",
              "      <td>no</td>\n",
              "      <td>3.0</td>\n",
              "      <td>3.0</td>\n",
              "      <td>Sometimes</td>\n",
              "      <td>no</td>\n",
              "      <td>2.0</td>\n",
              "      <td>no</td>\n",
              "      <td>2.0</td>\n",
              "      <td>0.0</td>\n",
              "      <td>Frequently</td>\n",
              "      <td>Walking</td>\n",
              "    </tr>\n",
              "    <tr>\n",
              "      <th>4</th>\n",
              "      <td>Male</td>\n",
              "      <td>22.0</td>\n",
              "      <td>1.78</td>\n",
              "      <td>89.8</td>\n",
              "      <td>no</td>\n",
              "      <td>no</td>\n",
              "      <td>2.0</td>\n",
              "      <td>1.0</td>\n",
              "      <td>Sometimes</td>\n",
              "      <td>no</td>\n",
              "      <td>2.0</td>\n",
              "      <td>no</td>\n",
              "      <td>0.0</td>\n",
              "      <td>0.0</td>\n",
              "      <td>Sometimes</td>\n",
              "      <td>Public_Transportation</td>\n",
              "    </tr>\n",
              "  </tbody>\n",
              "</table>\n",
              "</div>\n",
              "    <div class=\"colab-df-buttons\">\n",
              "\n",
              "  <div class=\"colab-df-container\">\n",
              "    <button class=\"colab-df-convert\" onclick=\"convertToInteractive('df-c51f589f-659f-4e20-9985-6322f44d5efa')\"\n",
              "            title=\"Convert this dataframe to an interactive table.\"\n",
              "            style=\"display:none;\">\n",
              "\n",
              "  <svg xmlns=\"http://www.w3.org/2000/svg\" height=\"24px\" viewBox=\"0 -960 960 960\">\n",
              "    <path d=\"M120-120v-720h720v720H120Zm60-500h600v-160H180v160Zm220 220h160v-160H400v160Zm0 220h160v-160H400v160ZM180-400h160v-160H180v160Zm440 0h160v-160H620v160ZM180-180h160v-160H180v160Zm440 0h160v-160H620v160Z\"/>\n",
              "  </svg>\n",
              "    </button>\n",
              "\n",
              "  <style>\n",
              "    .colab-df-container {\n",
              "      display:flex;\n",
              "      gap: 12px;\n",
              "    }\n",
              "\n",
              "    .colab-df-convert {\n",
              "      background-color: #E8F0FE;\n",
              "      border: none;\n",
              "      border-radius: 50%;\n",
              "      cursor: pointer;\n",
              "      display: none;\n",
              "      fill: #1967D2;\n",
              "      height: 32px;\n",
              "      padding: 0 0 0 0;\n",
              "      width: 32px;\n",
              "    }\n",
              "\n",
              "    .colab-df-convert:hover {\n",
              "      background-color: #E2EBFA;\n",
              "      box-shadow: 0px 1px 2px rgba(60, 64, 67, 0.3), 0px 1px 3px 1px rgba(60, 64, 67, 0.15);\n",
              "      fill: #174EA6;\n",
              "    }\n",
              "\n",
              "    .colab-df-buttons div {\n",
              "      margin-bottom: 4px;\n",
              "    }\n",
              "\n",
              "    [theme=dark] .colab-df-convert {\n",
              "      background-color: #3B4455;\n",
              "      fill: #D2E3FC;\n",
              "    }\n",
              "\n",
              "    [theme=dark] .colab-df-convert:hover {\n",
              "      background-color: #434B5C;\n",
              "      box-shadow: 0px 1px 3px 1px rgba(0, 0, 0, 0.15);\n",
              "      filter: drop-shadow(0px 1px 2px rgba(0, 0, 0, 0.3));\n",
              "      fill: #FFFFFF;\n",
              "    }\n",
              "  </style>\n",
              "\n",
              "    <script>\n",
              "      const buttonEl =\n",
              "        document.querySelector('#df-c51f589f-659f-4e20-9985-6322f44d5efa button.colab-df-convert');\n",
              "      buttonEl.style.display =\n",
              "        google.colab.kernel.accessAllowed ? 'block' : 'none';\n",
              "\n",
              "      async function convertToInteractive(key) {\n",
              "        const element = document.querySelector('#df-c51f589f-659f-4e20-9985-6322f44d5efa');\n",
              "        const dataTable =\n",
              "          await google.colab.kernel.invokeFunction('convertToInteractive',\n",
              "                                                    [key], {});\n",
              "        if (!dataTable) return;\n",
              "\n",
              "        const docLinkHtml = 'Like what you see? Visit the ' +\n",
              "          '<a target=\"_blank\" href=https://colab.research.google.com/notebooks/data_table.ipynb>data table notebook</a>'\n",
              "          + ' to learn more about interactive tables.';\n",
              "        element.innerHTML = '';\n",
              "        dataTable['output_type'] = 'display_data';\n",
              "        await google.colab.output.renderOutput(dataTable, element);\n",
              "        const docLink = document.createElement('div');\n",
              "        docLink.innerHTML = docLinkHtml;\n",
              "        element.appendChild(docLink);\n",
              "      }\n",
              "    </script>\n",
              "  </div>\n",
              "\n",
              "\n",
              "<div id=\"df-773776cc-246d-4f77-9967-3b80859708b6\">\n",
              "  <button class=\"colab-df-quickchart\" onclick=\"quickchart('df-773776cc-246d-4f77-9967-3b80859708b6')\"\n",
              "            title=\"Suggest charts\"\n",
              "            style=\"display:none;\">\n",
              "\n",
              "<svg xmlns=\"http://www.w3.org/2000/svg\" height=\"24px\"viewBox=\"0 0 24 24\"\n",
              "     width=\"24px\">\n",
              "    <g>\n",
              "        <path d=\"M19 3H5c-1.1 0-2 .9-2 2v14c0 1.1.9 2 2 2h14c1.1 0 2-.9 2-2V5c0-1.1-.9-2-2-2zM9 17H7v-7h2v7zm4 0h-2V7h2v10zm4 0h-2v-4h2v4z\"/>\n",
              "    </g>\n",
              "</svg>\n",
              "  </button>\n",
              "\n",
              "<style>\n",
              "  .colab-df-quickchart {\n",
              "      --bg-color: #E8F0FE;\n",
              "      --fill-color: #1967D2;\n",
              "      --hover-bg-color: #E2EBFA;\n",
              "      --hover-fill-color: #174EA6;\n",
              "      --disabled-fill-color: #AAA;\n",
              "      --disabled-bg-color: #DDD;\n",
              "  }\n",
              "\n",
              "  [theme=dark] .colab-df-quickchart {\n",
              "      --bg-color: #3B4455;\n",
              "      --fill-color: #D2E3FC;\n",
              "      --hover-bg-color: #434B5C;\n",
              "      --hover-fill-color: #FFFFFF;\n",
              "      --disabled-bg-color: #3B4455;\n",
              "      --disabled-fill-color: #666;\n",
              "  }\n",
              "\n",
              "  .colab-df-quickchart {\n",
              "    background-color: var(--bg-color);\n",
              "    border: none;\n",
              "    border-radius: 50%;\n",
              "    cursor: pointer;\n",
              "    display: none;\n",
              "    fill: var(--fill-color);\n",
              "    height: 32px;\n",
              "    padding: 0;\n",
              "    width: 32px;\n",
              "  }\n",
              "\n",
              "  .colab-df-quickchart:hover {\n",
              "    background-color: var(--hover-bg-color);\n",
              "    box-shadow: 0 1px 2px rgba(60, 64, 67, 0.3), 0 1px 3px 1px rgba(60, 64, 67, 0.15);\n",
              "    fill: var(--button-hover-fill-color);\n",
              "  }\n",
              "\n",
              "  .colab-df-quickchart-complete:disabled,\n",
              "  .colab-df-quickchart-complete:disabled:hover {\n",
              "    background-color: var(--disabled-bg-color);\n",
              "    fill: var(--disabled-fill-color);\n",
              "    box-shadow: none;\n",
              "  }\n",
              "\n",
              "  .colab-df-spinner {\n",
              "    border: 2px solid var(--fill-color);\n",
              "    border-color: transparent;\n",
              "    border-bottom-color: var(--fill-color);\n",
              "    animation:\n",
              "      spin 1s steps(1) infinite;\n",
              "  }\n",
              "\n",
              "  @keyframes spin {\n",
              "    0% {\n",
              "      border-color: transparent;\n",
              "      border-bottom-color: var(--fill-color);\n",
              "      border-left-color: var(--fill-color);\n",
              "    }\n",
              "    20% {\n",
              "      border-color: transparent;\n",
              "      border-left-color: var(--fill-color);\n",
              "      border-top-color: var(--fill-color);\n",
              "    }\n",
              "    30% {\n",
              "      border-color: transparent;\n",
              "      border-left-color: var(--fill-color);\n",
              "      border-top-color: var(--fill-color);\n",
              "      border-right-color: var(--fill-color);\n",
              "    }\n",
              "    40% {\n",
              "      border-color: transparent;\n",
              "      border-right-color: var(--fill-color);\n",
              "      border-top-color: var(--fill-color);\n",
              "    }\n",
              "    60% {\n",
              "      border-color: transparent;\n",
              "      border-right-color: var(--fill-color);\n",
              "    }\n",
              "    80% {\n",
              "      border-color: transparent;\n",
              "      border-right-color: var(--fill-color);\n",
              "      border-bottom-color: var(--fill-color);\n",
              "    }\n",
              "    90% {\n",
              "      border-color: transparent;\n",
              "      border-bottom-color: var(--fill-color);\n",
              "    }\n",
              "  }\n",
              "</style>\n",
              "\n",
              "  <script>\n",
              "    async function quickchart(key) {\n",
              "      const quickchartButtonEl =\n",
              "        document.querySelector('#' + key + ' button');\n",
              "      quickchartButtonEl.disabled = true;  // To prevent multiple clicks.\n",
              "      quickchartButtonEl.classList.add('colab-df-spinner');\n",
              "      try {\n",
              "        const charts = await google.colab.kernel.invokeFunction(\n",
              "            'suggestCharts', [key], {});\n",
              "      } catch (error) {\n",
              "        console.error('Error during call to suggestCharts:', error);\n",
              "      }\n",
              "      quickchartButtonEl.classList.remove('colab-df-spinner');\n",
              "      quickchartButtonEl.classList.add('colab-df-quickchart-complete');\n",
              "    }\n",
              "    (() => {\n",
              "      let quickchartButtonEl =\n",
              "        document.querySelector('#df-773776cc-246d-4f77-9967-3b80859708b6 button');\n",
              "      quickchartButtonEl.style.display =\n",
              "        google.colab.kernel.accessAllowed ? 'block' : 'none';\n",
              "    })();\n",
              "  </script>\n",
              "</div>\n",
              "\n",
              "    </div>\n",
              "  </div>\n"
            ],
            "application/vnd.google.colaboratory.intrinsic+json": {
              "type": "dataframe",
              "variable_name": "obesity_data_df",
              "summary": "{\n  \"name\": \"obesity_data_df\",\n  \"rows\": 2111,\n  \"fields\": [\n    {\n      \"column\": \"Gender\",\n      \"properties\": {\n        \"dtype\": \"category\",\n        \"num_unique_values\": 2,\n        \"samples\": [\n          \"Male\",\n          \"Female\"\n        ],\n        \"semantic_type\": \"\",\n        \"description\": \"\"\n      }\n    },\n    {\n      \"column\": \"Age\",\n      \"properties\": {\n        \"dtype\": \"number\",\n        \"std\": 6.3459682737322405,\n        \"min\": 14.0,\n        \"max\": 61.0,\n        \"num_unique_values\": 1402,\n        \"samples\": [\n          25.526746,\n          26.740655\n        ],\n        \"semantic_type\": \"\",\n        \"description\": \"\"\n      }\n    },\n    {\n      \"column\": \"Height\",\n      \"properties\": {\n        \"dtype\": \"number\",\n        \"std\": 0.09330481986792,\n        \"min\": 1.45,\n        \"max\": 1.98,\n        \"num_unique_values\": 1574,\n        \"samples\": [\n          1.760175,\n          1.688436\n        ],\n        \"semantic_type\": \"\",\n        \"description\": \"\"\n      }\n    },\n    {\n      \"column\": \"Weight\",\n      \"properties\": {\n        \"dtype\": \"number\",\n        \"std\": 26.191171745204688,\n        \"min\": 39.0,\n        \"max\": 173.0,\n        \"num_unique_values\": 1525,\n        \"samples\": [\n          120.702935,\n          64.4\n        ],\n        \"semantic_type\": \"\",\n        \"description\": \"\"\n      }\n    },\n    {\n      \"column\": \"family_history_with_overweight\",\n      \"properties\": {\n        \"dtype\": \"category\",\n        \"num_unique_values\": 2,\n        \"samples\": [\n          \"no\",\n          \"yes\"\n        ],\n        \"semantic_type\": \"\",\n        \"description\": \"\"\n      }\n    },\n    {\n      \"column\": \"FAVC\",\n      \"properties\": {\n        \"dtype\": \"category\",\n        \"num_unique_values\": 2,\n        \"samples\": [\n          \"yes\",\n          \"no\"\n        ],\n        \"semantic_type\": \"\",\n        \"description\": \"\"\n      }\n    },\n    {\n      \"column\": \"FCVC\",\n      \"properties\": {\n        \"dtype\": \"number\",\n        \"std\": 0.5339265785033023,\n        \"min\": 1.0,\n        \"max\": 3.0,\n        \"num_unique_values\": 810,\n        \"samples\": [\n          2.987148,\n          2.939727\n        ],\n        \"semantic_type\": \"\",\n        \"description\": \"\"\n      }\n    },\n    {\n      \"column\": \"NCP\",\n      \"properties\": {\n        \"dtype\": \"number\",\n        \"std\": 0.7780386488418594,\n        \"min\": 1.0,\n        \"max\": 4.0,\n        \"num_unique_values\": 635,\n        \"samples\": [\n          1.468948,\n          2.9948\n        ],\n        \"semantic_type\": \"\",\n        \"description\": \"\"\n      }\n    },\n    {\n      \"column\": \"CAEC\",\n      \"properties\": {\n        \"dtype\": \"category\",\n        \"num_unique_values\": 4,\n        \"samples\": [\n          \"Frequently\",\n          \"no\"\n        ],\n        \"semantic_type\": \"\",\n        \"description\": \"\"\n      }\n    },\n    {\n      \"column\": \"SMOKE\",\n      \"properties\": {\n        \"dtype\": \"category\",\n        \"num_unique_values\": 2,\n        \"samples\": [\n          \"yes\",\n          \"no\"\n        ],\n        \"semantic_type\": \"\",\n        \"description\": \"\"\n      }\n    },\n    {\n      \"column\": \"CH2O\",\n      \"properties\": {\n        \"dtype\": \"number\",\n        \"std\": 0.6129534517968702,\n        \"min\": 1.0,\n        \"max\": 3.0,\n        \"num_unique_values\": 1268,\n        \"samples\": [\n          2.395387,\n          1.983973\n        ],\n        \"semantic_type\": \"\",\n        \"description\": \"\"\n      }\n    },\n    {\n      \"column\": \"SCC\",\n      \"properties\": {\n        \"dtype\": \"category\",\n        \"num_unique_values\": 2,\n        \"samples\": [\n          \"yes\",\n          \"no\"\n        ],\n        \"semantic_type\": \"\",\n        \"description\": \"\"\n      }\n    },\n    {\n      \"column\": \"FAF\",\n      \"properties\": {\n        \"dtype\": \"number\",\n        \"std\": 0.8505924308367011,\n        \"min\": 0.0,\n        \"max\": 3.0,\n        \"num_unique_values\": 1190,\n        \"samples\": [\n          1.655488,\n          2.433918\n        ],\n        \"semantic_type\": \"\",\n        \"description\": \"\"\n      }\n    },\n    {\n      \"column\": \"TUE\",\n      \"properties\": {\n        \"dtype\": \"number\",\n        \"std\": 0.6089272596763761,\n        \"min\": 0.0,\n        \"max\": 2.0,\n        \"num_unique_values\": 1129,\n        \"samples\": [\n          1.416353,\n          0.878258\n        ],\n        \"semantic_type\": \"\",\n        \"description\": \"\"\n      }\n    },\n    {\n      \"column\": \"CALC\",\n      \"properties\": {\n        \"dtype\": \"category\",\n        \"num_unique_values\": 4,\n        \"samples\": [\n          \"Sometimes\",\n          \"Always\"\n        ],\n        \"semantic_type\": \"\",\n        \"description\": \"\"\n      }\n    },\n    {\n      \"column\": \"MTRANS\",\n      \"properties\": {\n        \"dtype\": \"category\",\n        \"num_unique_values\": 5,\n        \"samples\": [\n          \"Walking\",\n          \"Bike\"\n        ],\n        \"semantic_type\": \"\",\n        \"description\": \"\"\n      }\n    }\n  ]\n}"
            }
          },
          "metadata": {},
          "execution_count": 7
        }
      ],
      "source": [
        "# fetch dataset\n",
        "obesity_data = fetch_ucirepo(id=544)\n",
        "obesity_data_df = obesity_data.data.features\n",
        "obesity_data_df.head()"
      ]
    },
    {
      "cell_type": "markdown",
      "source": [
        "Inspect the dataset"
      ],
      "metadata": {
        "id": "2_s0HU7J6BRu"
      }
    },
    {
      "cell_type": "code",
      "execution_count": null,
      "metadata": {
        "id": "F_ado_rVXzyc"
      },
      "outputs": [],
      "source": [
        "obesity_data_df.describe()"
      ]
    },
    {
      "cell_type": "markdown",
      "source": [
        "## Regression"
      ],
      "metadata": {
        "id": "2x6HkzGs6Y-p"
      }
    },
    {
      "cell_type": "markdown",
      "source": [
        "Recall the model from the last classes:\n",
        "\n",
        "*Weight ~ Age + FCVC + Height*\n",
        "\n",
        "So far, we modeled this relationship using linear regression. Let's take a look at how the non-linear estimator - KNN will manage to model this relationship.\n",
        "\n",
        "To create a model with KNN estimator, you simply need to create an object of type [`KNeighborsRegressor()`](https://scikit-learn.org/stable/modules/generated/sklearn.neighbors.KNeighborsRegressor.html#sklearn.neighbors.KNeighborsRegressor) instead of the linear regression object. Give yourself a moment to read the documentation of KNN regressor."
      ],
      "metadata": {
        "id": "ZMUlNHlq6yRv"
      }
    },
    {
      "cell_type": "markdown",
      "source": [
        "### Exercise 1\n",
        "Let's compare the performance of KNN to the linear model."
      ],
      "metadata": {
        "id": "h4xKuYQE9UIg"
      }
    },
    {
      "cell_type": "markdown",
      "source": [
        "1. The first model is the simplest linear model we have already done"
      ],
      "metadata": {
        "id": "dx1MD9bx9yHj"
      }
    },
    {
      "cell_type": "code",
      "source": [
        "# Linear regression model - for comparison\n",
        "X = obesity_data_df[[\n",
        "    'Age',\n",
        "    'FCVC',\n",
        "    'Height',\n",
        "]]\n",
        "\n",
        "y = obesity_data_df[['Weight']]\n",
        "\n",
        "X_train, X_test, y_train, y_test = train_test_split(X, y, test_size=test_size, random_state=random_state)\n",
        "\n",
        "# create object of linear regression estimator\n",
        "lm = linear_model.LinearRegression()\n",
        "\n",
        "lm.fit(X_train, y_train)\n",
        "y_pred = lm.predict(X_test)\n",
        "\n",
        "scores = compute_score(y_test, y_pred)\n",
        "scores"
      ],
      "metadata": {
        "id": "ckh7EFzi8x7P"
      },
      "execution_count": null,
      "outputs": []
    },
    {
      "cell_type": "code",
      "source": [
        "plot_prediction_error(y_test, y_pred, scores)"
      ],
      "metadata": {
        "id": "qJoTE_0A9_h4"
      },
      "execution_count": null,
      "outputs": []
    },
    {
      "cell_type": "markdown",
      "source": [
        "2. KNN Regressor model with *default parameters*:"
      ],
      "metadata": {
        "id": "GcvR3Lw2_3sb"
      }
    },
    {
      "cell_type": "code",
      "source": [
        "X = obesity_data_df[[\n",
        "    'Age',\n",
        "    'FCVC',\n",
        "    'Height',\n",
        "]]\n",
        "\n",
        "y = obesity_data_df[['Weight']]\n",
        "\n",
        "X_train, X_test, y_train, y_test = train_test_split(X, y, test_size=test_size, random_state=random_state)\n",
        "\n",
        "# create object of KNN estimator\n",
        "knn = KNeighborsRegressor()\n",
        "\n",
        "knn.fit(X_train, y_train)\n",
        "y_pred = knn.predict(X_test)\n",
        "\n",
        "scores = compute_score(y_test, y_pred)\n",
        "scores"
      ],
      "metadata": {
        "id": "QFgbT-Ow6u98"
      },
      "execution_count": null,
      "outputs": []
    },
    {
      "cell_type": "code",
      "source": [
        "plot_prediction_error(y_test, y_pred, scores)"
      ],
      "metadata": {
        "id": "XwywNO-wSYPd"
      },
      "execution_count": null,
      "outputs": []
    },
    {
      "cell_type": "markdown",
      "source": [
        "There is quite a difference! We didn't have to do anything - with zero knowledge of the data, we got a better result than using linear regression and all our knowledge of the data."
      ],
      "metadata": {
        "id": "ntwwmWcBANvO"
      }
    },
    {
      "cell_type": "markdown",
      "source": [
        "### Exercise 2\n",
        "Now - try to play a little bit with KNN. Maybe you can extract even more from the model by changing its parameters?\n",
        "\n",
        "Create at least 3 different KNN  and change at leat 2 different parameters."
      ],
      "metadata": {
        "id": "NnHid5aJAh0m"
      }
    },
    {
      "cell_type": "code",
      "source": [
        "# your code here"
      ],
      "metadata": {
        "id": "VIDtE7kiAhOT"
      },
      "execution_count": null,
      "outputs": []
    },
    {
      "cell_type": "markdown",
      "source": [
        "### (Exercise 2.1)\n",
        "\n",
        "Too complex models tend to overfit, i.e., they are too closely matched to the training data and begin to perform poorly on the test data.\n",
        "Plot training and testing performance vs number of neighbors to see, whether this model tends to overfit when the number of neighbors increases."
      ],
      "metadata": {
        "id": "7eHNmAaJBF53"
      }
    },
    {
      "cell_type": "code",
      "source": [
        "# Your code here"
      ],
      "metadata": {
        "id": "O179AvtfNaqE"
      },
      "execution_count": null,
      "outputs": []
    },
    {
      "cell_type": "markdown",
      "source": [
        "What do you think this chart means for the problem of predicting orthodoxy based on personality traits? How many people with similar personality profiles is it best to look at to make a good prediction of the level of orthodoxy?"
      ],
      "metadata": {
        "id": "Ntz52-qCRDVs"
      }
    },
    {
      "cell_type": "markdown",
      "source": [
        "## Classification"
      ],
      "metadata": {
        "id": "dcf6CPqORd4E"
      }
    },
    {
      "cell_type": "markdown",
      "source": [
        "Classification is a type of supervised learning task in machine learning and statistics where the goal is to assign labels or categories to input data. Essentially, classification involves predicting the **category or class** of new observations based on previous examples with known labels."
      ],
      "metadata": {
        "id": "tynD0O5-Rjpv"
      }
    },
    {
      "cell_type": "markdown",
      "source": [
        "### Exercise 3\n",
        "\n",
        "Initially, out dataset was dedicated to predict obesity levels based on the habits and physical conditions. Now, we are going to create classification model:\n",
        "\n",
        "*Obesity level ~ Age + FCVC + Height*\n",
        "\n",
        "The obesity level is stored in the `data.targets` attribute of the `obesity_data` variable.\n",
        "\n",
        "Look into the documentation of [`KNeighborsClassifier`](https://scikit-learn.org/stable/modules/generated/sklearn.neighbors.KNeighborsClassifier.html) and write down the code, employing the same patter as in the regression analysis.\n",
        "To check the classification results, use the predefined `compute_score_classification()` method and print separately each metric. How you interpret the results of the model?"
      ],
      "metadata": {
        "id": "0XUt1U-JG_5J"
      }
    },
    {
      "cell_type": "code",
      "source": [
        "X = obesity_data_df[[\n",
        "    'Age',\n",
        "    'FCVC',\n",
        "    'Height',\n",
        "]]\n",
        "\n",
        "y = obesity_data.data.targets['NObeyesdad'] # your code here\n",
        "X_train, X_test, y_train, y_test = train_test_split(X, y, test_size=test_size, random_state=random_state)\n",
        "\n",
        "# create object of KNN Classifier\n",
        "knn = KNeighborsClassifier() # your code here\n",
        "knn.fit(X_train, y_train)\n",
        "y_pred = knn.predict(X_test)\n",
        "\n",
        "scores = compute_score_classification(y_test, y_pred)\n",
        "print(Classification Report)"
      ],
      "metadata": {
        "id": "Srjm01AFRkQe",
        "colab": {
          "base_uri": "https://localhost:8080/",
          "height": 110
        },
        "outputId": "ca2df23f-f806-4d77-b685-8ce136cf813e"
      },
      "execution_count": 18,
      "outputs": [
        {
          "output_type": "error",
          "ename": "SyntaxError",
          "evalue": "invalid syntax. Perhaps you forgot a comma? (<ipython-input-18-5e6235689450>, line 16)",
          "traceback": [
            "\u001b[0;36m  File \u001b[0;32m\"<ipython-input-18-5e6235689450>\"\u001b[0;36m, line \u001b[0;32m16\u001b[0m\n\u001b[0;31m    print(Classification Report)\u001b[0m\n\u001b[0m          ^\u001b[0m\n\u001b[0;31mSyntaxError\u001b[0m\u001b[0;31m:\u001b[0m invalid syntax. Perhaps you forgot a comma?\n"
          ]
        }
      ]
    },
    {
      "cell_type": "markdown",
      "source": [
        "### (Exercise 3.1)\n",
        "\n",
        "If you create a 2D feature matrix, you can use `scikit-learn` utilities to plot the decision boundaries. Let's build a model with only two features, then use the code below."
      ],
      "metadata": {
        "id": "cH7-umfgLQyI"
      }
    },
    {
      "cell_type": "code",
      "source": [
        "# your code here"
      ],
      "metadata": {
        "id": "nFloDBxcLmPR"
      },
      "execution_count": null,
      "outputs": []
    },
    {
      "cell_type": "code",
      "source": [
        "X = obesity_data_df[[\n",
        "    'Height',\n",
        "    \"Age\",\n",
        "]]\n",
        "\n",
        "y = obesity_data.data.targets['NObeyesdad'] # your code here\n",
        "X_train, X_test, y_train, y_test = train_test_split(X, y, test_size=test_size, random_state=random_state)\n",
        "\n",
        "# create object of KNN Classifier\n",
        "knnplot = KNeighborsClassifier() # your code here\n",
        "knnplot.fit(X_train, y_train)\n",
        "y_pred = knnplot.predict(X_test)\n",
        "\n",
        "scores = compute_score_classification(y_test, y_pred)\n",
        "print(scores)"
      ],
      "metadata": {
        "outputId": "71b33841-9961-44ab-b604-a9aaf427cd13",
        "colab": {
          "base_uri": "https://localhost:8080/"
        },
        "id": "llGPVjktkSUn"
      },
      "execution_count": 15,
      "outputs": [
        {
          "output_type": "stream",
          "name": "stdout",
          "text": [
            "{'Accuracy': '0.522', 'Classification Report': '                     precision    recall  f1-score   support\\n\\nInsufficient_Weight       0.50      0.52      0.51        56\\n      Normal_Weight       0.48      0.65      0.55        62\\n     Obesity_Type_I       0.54      0.47      0.50        78\\n    Obesity_Type_II       0.56      0.64      0.60        58\\n   Obesity_Type_III       0.66      0.76      0.71        63\\n Overweight_Level_I       0.51      0.32      0.40        56\\nOverweight_Level_II       0.31      0.24      0.27        50\\n\\n           accuracy                           0.52       423\\n          macro avg       0.51      0.51      0.50       423\\n       weighted avg       0.51      0.52      0.51       423\\n'}\n"
          ]
        }
      ]
    },
    {
      "cell_type": "code",
      "source": [
        "plt.figure(figsize=(10, 6))\n",
        "\n",
        "disp = DecisionBoundaryDisplay.from_estimator(\n",
        "    knnplot,\n",
        "    X_train,\n",
        "    response_method=\"predict\",\n",
        "    cmap=\"Pastel1\",\n",
        "    alpha=0.5,\n",
        "    xlabel=X_train.columns[0],\n",
        "    ylabel=X_train.columns[1],\n",
        ")"
      ],
      "metadata": {
        "id": "2FUTIgZIJnFV",
        "outputId": "659b8d31-6fd7-4216-e10d-2819691b67cd",
        "colab": {
          "base_uri": "https://localhost:8080/",
          "height": 645
        }
      },
      "execution_count": 16,
      "outputs": [
        {
          "output_type": "display_data",
          "data": {
            "text/plain": [
              "<Figure size 1000x600 with 0 Axes>"
            ]
          },
          "metadata": {}
        },
        {
          "output_type": "display_data",
          "data": {
            "text/plain": [
              "<Figure size 1000x700 with 1 Axes>"
            ],
            "image/png": "[encoded data removed]"
          },
          "metadata": {}
        }
      ]
    }
  ],
  "metadata": {
    "colab": {
      "provenance": [],
      "toc_visible": true
    },
    "kernelspec": {
      "display_name": "Python 3",
      "name": "python3"
    },
    "language_info": {
      "name": "python"
    }
  },
  "nbformat": 4,
  "nbformat_minor": 0
}